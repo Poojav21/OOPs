{
  "cells": [
    {
      "cell_type": "markdown",
      "metadata": {
        "id": "view-in-github",
        "colab_type": "text"
      },
      "source": [
        "<a href=\"https://colab.research.google.com/github/Poojav21/OOPs/blob/main/oops.ipynb\" target=\"_parent\"><img src=\"https://colab.research.google.com/assets/colab-badge.svg\" alt=\"Open In Colab\"/></a>"
      ]
    },
    {
      "cell_type": "code",
      "execution_count": 1,
      "metadata": {
        "id": "QUEuqtGkuPxM"
      },
      "outputs": [],
      "source": [
        "class Atm:\n",
        "\n",
        "  def __init__(self):\n",
        "    print(id(self))\n",
        "    self.pin = \"\"\n",
        "    self.balance = 0\n",
        "    # self.menu()\n",
        "\n",
        "\n",
        "  def menu(self):\n",
        "    user_input = input(\"\"\"\n",
        "    Hi ! How may i help you\n",
        "    1. Enter 1 to create pin\n",
        "    2. Enter 2 to change  pin\n",
        "    3. Enter 3 to check balance\n",
        "    4. Enter 4 to withdraw\n",
        "    5. For anything else to exit\n",
        "    \"\"\")\n",
        "\n",
        "    if user_input == \"1\":\n",
        "      self.create_pin()\n",
        "      #create pin\n",
        "\n",
        "    elif user_input == \"2\":\n",
        "      self.change_pin()\n",
        "\n",
        "    elif user_input == \"3\":\n",
        "      self.check_balance()\n",
        "    elif user_input == \"4\":\n",
        "      self.withdraw_money()\n",
        "    else:\n",
        "      exit()\n",
        "\n",
        "  def create_pin(self):\n",
        "    user_pin = input(\"Enter your pin\")\n",
        "    self.pin = user_pin\n",
        "\n",
        "    user_balance = int(input(\"enter the balance\"))\n",
        "    self.balance = user_balance\n",
        "\n",
        "    print(\"pin created successfully\")\n",
        "    self.menu()\n",
        "\n",
        "  def change_pin(self):\n",
        "    old_pin = input(\"Enter old pin\")\n",
        "\n",
        "    if old_pin == self.pin:\n",
        "      new_pin = input(\"Enter new pin\")\n",
        "      self.pin = new_pin\n",
        "      print(\"Pin change successful\")\n",
        "      self.menu()\n",
        "\n",
        "    else:\n",
        "      print(\"nai krne de skta re baba\")\n",
        "      self.menu()\n",
        "\n",
        "  def check_balance(self):\n",
        "    user_enterpin = input(\"Enter your pin\")\n",
        "    if user_enterpin == self.pin:\n",
        "      print(\"Your balance is: \", self.balance)\n",
        "      self.menu()\n",
        "    else:\n",
        "      print(\"NO, you cant see the balance\")\n",
        "      self.menu()\n",
        "  def withdraw_money(self):\n",
        "    user_enterpin = input(\"enter your pin\")\n",
        "    if user_enterpin == self.pin:\n",
        "      user_inputcash = int(input(\"enter the withdraw money\"))\n",
        "\n",
        "      if user_inputcash <= self.balance:\n",
        "        self.balance = self.balance - user_inputcash\n",
        "        print(\"Money debit successfully\", self.balance)\n",
        "        print(user_inputcash)\n",
        "      else:\n",
        "        print(\"money insufficent\")\n",
        "    else:\n",
        "      print(\"Enter the wrong password\")\n",
        "    self.menu()\n",
        "\n",
        "\n",
        "\n",
        "\n",
        "\n",
        "\n",
        "\n",
        "\n",
        "\n",
        "\n",
        "\n",
        "\n",
        "\n",
        ""
      ]
    },
    {
      "cell_type": "markdown",
      "source": [
        "# New Section"
      ],
      "metadata": {
        "id": "wcoKC2KKma65"
      }
    },
    {
      "cell_type": "code",
      "execution_count": 2,
      "metadata": {
        "id": "8BsWfX90wtVM",
        "colab": {
          "base_uri": "https://localhost:8080/"
        },
        "outputId": "1cf27f9e-42a1-47a9-d960-b6ae1a483403"
      },
      "outputs": [
        {
          "output_type": "stream",
          "name": "stdout",
          "text": [
            "135032392073568\n"
          ]
        },
        {
          "output_type": "execute_result",
          "data": {
            "text/plain": [
              "135032392073568"
            ]
          },
          "metadata": {},
          "execution_count": 2
        }
      ],
      "source": [
        "\n",
        "obj = Atm()\n",
        "id(obj)"
      ]
    },
    {
      "cell_type": "code",
      "execution_count": 3,
      "metadata": {
        "id": "bDXQdBi1w1Nh",
        "colab": {
          "base_uri": "https://localhost:8080/"
        },
        "outputId": "190d748f-6e10-4107-c445-fab3ea8ab3cc"
      },
      "outputs": [
        {
          "output_type": "stream",
          "name": "stdout",
          "text": [
            "Hello! Pooja\n"
          ]
        }
      ],
      "source": [
        "class Temp:\n",
        "\n",
        "  def __init__ (self):\n",
        "    print(\"Hello! Pooja\")\n",
        "\n",
        "obj = Temp()"
      ]
    },
    {
      "cell_type": "code",
      "source": [
        "class Fraction:\n",
        "  def __init__(self, x, y):\n",
        "    self.num = x\n",
        "    self.den = y\n",
        "\n",
        "  def __str__(self):\n",
        "    return \"{}/{}\".format(self.num,self.den)\n",
        "  def __add__(self, other):\n",
        "    new_num = self.num*other.den + self.den*other.num\n",
        "    new_den = self.den*other.den\n",
        "    return\"{}/{}\".format(new_num, new_den)\n",
        "  def __sub__(self, other):\n",
        "    new_num = self.num*other.den - self.den*other.num\n",
        "    new_den = self.den*other.den\n",
        "    return\"{}/{}\".format(new_num, new_den)\n",
        "\n",
        "  def __mul__(self, other):\n",
        "    new_num = self.num*other.num * self.den*other.den\n",
        "    new_den = self.den*other.den\n",
        "    return\"{}/{}\".format(new_num, new_den)\n",
        "\n",
        "\n",
        "  def __truediv__(self, other):\n",
        "    new_num = self.num*other.den\n",
        "    new_den = self.den*other.num\n",
        "\n",
        "    return\"{}/{}\".format(new_num, new_den)\n",
        "\n",
        "  def convert_to_decimal(self):\n",
        "    return self.num/self.den\n",
        "\n",
        "  def simplify(self):\n",
        "    return self.num//self.den\n",
        "\n",
        "\n",
        "\n",
        "\n",
        "\n",
        "\n",
        "\n",
        ""
      ],
      "metadata": {
        "id": "jOBCCi6oP-cd"
      },
      "execution_count": 4,
      "outputs": []
    },
    {
      "cell_type": "code",
      "source": [
        "frac = Fraction(10, 3)\n",
        "frac1 = Fraction(4, 5)\n",
        "print(frac.simplify())\n",
        "\n",
        "\n",
        "print(frac+frac1)\n",
        "print(frac-frac1)\n",
        "print(frac*frac1)\n",
        "print(frac/frac1)"
      ],
      "metadata": {
        "id": "l0ZfNhBgVsWF",
        "colab": {
          "base_uri": "https://localhost:8080/"
        },
        "outputId": "640734b7-c395-4c2a-8c9c-37a222b1276b"
      },
      "execution_count": 5,
      "outputs": [
        {
          "output_type": "stream",
          "name": "stdout",
          "text": [
            "3\n",
            "62/15\n",
            "38/15\n",
            "600/15\n",
            "50/12\n"
          ]
        }
      ]
    },
    {
      "cell_type": "code",
      "source": [
        "class Point:\n",
        "\n",
        "  def __init__ (self, x, y):\n",
        "    self.x_cod = x\n",
        "    self.y_cod = y\n",
        "\n",
        "  def __str__ (self):\n",
        "    return \"<{},{}>\".format(self.x_cod, self.y_cod)\n",
        "\n",
        "  def euclidean_distance(self, other):\n",
        "    distance = ((self.x_cod-other.x_cod)**2+(self.y_cod-other.y_cod)**2)**0.5\n",
        "    print(\"The Euclidean distance between the two point is: \", distance )\n",
        "\n",
        "  def distance_from_origin(self):\n",
        "    distance = ((self.x_cod)**2+(self.y_cod)**2)**0.5\n",
        "    print(\"The distance from origin is: \", distance)\n",
        "  def distance_from_origin1(self):\n",
        "    return self.euclidean_distance(Point(0,0))\n",
        "\n",
        "class Line:\n",
        "  def __init__ (self, A, B, C):\n",
        "    self.A = A\n",
        "    self.B = B\n",
        "    self.C = C\n",
        "\n",
        "  def __str__(self):\n",
        "    return \"{}*x+{}*y+{} = 0\".format(self.A, self.B, self.C)\n",
        "\n",
        "  def point_on_line(line, point):\n",
        "    if line.A*point.x_cod + line.B*point.y_cod + line.C == 0:\n",
        "      print(\"Point lie on the line\")\n",
        "    else:\n",
        "      print(\"Points are not on the line\")\n",
        "\n",
        "  def shortest_distance(line, point):\n",
        "    distance = abs(line.A*point.x_cod+line.B*point.y_cod+line.C)/((line.A)**2+(line.B)**2)**0.5\n",
        "    return distance\n",
        "\n",
        ""
      ],
      "metadata": {
        "id": "_A962pHeV_1f"
      },
      "execution_count": 6,
      "outputs": []
    },
    {
      "cell_type": "code",
      "source": [
        "p1 = Point(1,1)\n",
        "l1 = Line(1, 1, -2)\n",
        "l1.shortest_distance(p1)\n",
        "\n",
        "\n"
      ],
      "metadata": {
        "id": "G8vfsCYr-YA0",
        "colab": {
          "base_uri": "https://localhost:8080/"
        },
        "outputId": "f25ce8ac-ba98-4273-9405-78671f9d351e"
      },
      "execution_count": 7,
      "outputs": [
        {
          "output_type": "execute_result",
          "data": {
            "text/plain": [
              "0.0"
            ]
          },
          "metadata": {},
          "execution_count": 7
        }
      ]
    },
    {
      "cell_type": "code",
      "source": [
        "from os import name\n",
        "class Person:\n",
        "  def __init__ (self, name_input, country_input):\n",
        "    self.name = name_input\n",
        "    self.country = country_input\n",
        "\n",
        "  def greet(self):\n",
        "    if self.country == \"India\":\n",
        "      print(\"Namaste\", self.name)\n",
        "    else:\n",
        "      print(\"Hello\", self.name)\n",
        "\n"
      ],
      "metadata": {
        "id": "Bxf0pO83-eAp"
      },
      "execution_count": 8,
      "outputs": []
    },
    {
      "cell_type": "code",
      "source": [
        "class Person:\n",
        "  def __init__ (self):\n",
        "    self.name = \"Pooja\"\n",
        "    self.gender= \"Female\"\n",
        "\n",
        "p = Person()\n",
        "q=p\n"
      ],
      "metadata": {
        "id": "wjHi6YMD-i5G"
      },
      "execution_count": 9,
      "outputs": []
    },
    {
      "cell_type": "code",
      "source": [
        "print(id(q))\n",
        "print(id(q))"
      ],
      "metadata": {
        "id": "pAIjAJgLKEa0",
        "colab": {
          "base_uri": "https://localhost:8080/"
        },
        "outputId": "ac041b1e-379a-4377-bf50-edcb23142a48"
      },
      "execution_count": 10,
      "outputs": [
        {
          "output_type": "stream",
          "name": "stdout",
          "text": [
            "135032392077744\n",
            "135032392077744\n"
          ]
        }
      ]
    },
    {
      "cell_type": "code",
      "source": [
        "print(p.name)\n",
        "print(q.name)\n",
        "q.name = \"Ankit\"\n",
        "print(p.name)\n",
        "print(q.name)"
      ],
      "metadata": {
        "id": "xZwCCW72Mqci",
        "colab": {
          "base_uri": "https://localhost:8080/"
        },
        "outputId": "7d65edb8-5aa6-4c84-f252-4516d922bb99"
      },
      "execution_count": 11,
      "outputs": [
        {
          "output_type": "stream",
          "name": "stdout",
          "text": [
            "Pooja\n",
            "Pooja\n",
            "Ankit\n",
            "Ankit\n"
          ]
        }
      ]
    },
    {
      "cell_type": "code",
      "source": [
        "class Person:\n",
        "  def __init__ (self, name, gender):\n",
        "    self.name = name\n",
        "    self.gender = gender\n",
        "\n",
        "# outside of the class --> function\n",
        "def greet(person):\n",
        "  print(\"Hi my name is \", person.name, \"and i am a \", person.gender)\n",
        "  p1 = Person(\"ankit\", \"male\")\n",
        "  return p1\n",
        "\n",
        "p = Person(\"Nitish\", \"Male\")\n",
        "x = greet(p)\n",
        "print(x.name)\n",
        "print(x.gender)\n"
      ],
      "metadata": {
        "id": "ktlcs_lHM36s",
        "colab": {
          "base_uri": "https://localhost:8080/"
        },
        "outputId": "64aebe1e-ebc5-4fe7-b668-df3c1366ecee"
      },
      "execution_count": 12,
      "outputs": [
        {
          "output_type": "stream",
          "name": "stdout",
          "text": [
            "Hi my name is  Nitish and i am a  Male\n",
            "ankit\n",
            "male\n"
          ]
        }
      ]
    },
    {
      "cell_type": "code",
      "source": [
        "class Person:\n",
        "  def __init__ (self, name, gender):\n",
        "    self.name = name\n",
        "    self.gender = gender\n",
        "\n",
        "# outside of the class --> function\n",
        "def greet(person):\n",
        "  print(id(person))\n",
        "  person.name = \"ankit\"\n",
        "  print(person.name)\n",
        "\n",
        "\n",
        "p = Person(\"Nitish\", \"Male\")\n",
        "print(id(p))\n",
        "greet(p)\n",
        "print(p.name)"
      ],
      "metadata": {
        "id": "_B_aBXQQmDI0",
        "colab": {
          "base_uri": "https://localhost:8080/"
        },
        "outputId": "2cc32303-78a9-4725-ba95-ca7511bd053d"
      },
      "execution_count": 13,
      "outputs": [
        {
          "output_type": "stream",
          "name": "stdout",
          "text": [
            "135032392085616\n",
            "135032392085616\n",
            "ankit\n",
            "ankit\n"
          ]
        }
      ]
    },
    {
      "cell_type": "code",
      "source": [
        "class Person:\n",
        "  def __init__ (self, name, gender):\n",
        "    self.name = name\n",
        "    self.gender = gender\n",
        "\n",
        "# outside of the class --> function\n",
        "def greet(person):\n",
        "  person.name = \"ankit\"\n",
        "  return person\n",
        "\n",
        "p = Person(\"Nitish\", \"Male\")\n",
        "print(id(p))\n",
        "p1 = greet(p)\n",
        "print(id(p1))\n"
      ],
      "metadata": {
        "id": "hKPqCFfxmlwG",
        "colab": {
          "base_uri": "https://localhost:8080/"
        },
        "outputId": "8c962248-da5d-4c7c-99d9-ac00843c2165"
      },
      "execution_count": 14,
      "outputs": [
        {
          "output_type": "stream",
          "name": "stdout",
          "text": [
            "135032392080672\n",
            "135032392080672\n"
          ]
        }
      ]
    },
    {
      "cell_type": "code",
      "source": [
        "# instance var\n",
        "class Person:\n",
        "  def __init__ (self, name_input, country_input):\n",
        "    self.name = name_input\n",
        "    self.country = country_input\n",
        "\n",
        "p1 = Person(\"nitish\", \"india\")\n",
        "p2 = Person(\"steve\", \"aus\")"
      ],
      "metadata": {
        "id": "XQsOkz07oSl2"
      },
      "execution_count": 15,
      "outputs": []
    },
    {
      "cell_type": "code",
      "source": [
        "p2.country"
      ],
      "metadata": {
        "id": "_GoDhsWpp5Zt",
        "colab": {
          "base_uri": "https://localhost:8080/",
          "height": 36
        },
        "outputId": "f13b28cc-13ff-4f23-b5f0-605a1d7bb568"
      },
      "execution_count": 16,
      "outputs": [
        {
          "output_type": "execute_result",
          "data": {
            "text/plain": [
              "'aus'"
            ],
            "application/vnd.google.colaboratory.intrinsic+json": {
              "type": "string"
            }
          },
          "metadata": {},
          "execution_count": 16
        }
      ]
    },
    {
      "cell_type": "code",
      "source": [
        "class Atm:\n",
        "\n",
        "  def __init__(self):\n",
        "    print(id(self))\n",
        "    self.pin = \"\"\n",
        "    self.__balance = 0\n",
        "    # self.menu()\n",
        "\n",
        "  def get_balance(self):\n",
        "    return self.__balance\n",
        "\n",
        "  def set_balance(self, new_value):\n",
        "    if type(new_value) == int:\n",
        "      self.__balance = new_value\n",
        "    else:\n",
        "      print(\"beta bahut marenge\")\n",
        "\n",
        "\n",
        "  def menu(self):\n",
        "    user_input = input(\"\"\"\n",
        "    Hi ! How may i help you\n",
        "    1. Enter 1 to create pin\n",
        "    2. Enter 2 to change  pin\n",
        "    3. Enter 3 to check balance\n",
        "    4. Enter 4 to withdraw\n",
        "    5. For anything else to exit\n",
        "    \"\"\")\n",
        "\n",
        "    if user_input == \"1\":\n",
        "      self.create_pin()\n",
        "      #create pin\n",
        "\n",
        "    elif user_input == \"2\":\n",
        "      self.change_pin()\n",
        "\n",
        "    elif user_input == \"3\":\n",
        "      self.__check_balance()\n",
        "    elif user_input == \"4\":\n",
        "      self.withdraw_money()\n",
        "    else:\n",
        "      exit()\n",
        "\n",
        "  def create_pin(self):\n",
        "    user_pin = input(\"Enter your pin\")\n",
        "    self.pin = user_pin\n",
        "\n",
        "    user_balance = int(input(\"enter the balance\"))\n",
        "    self.___balance = user_balance\n",
        "\n",
        "    print(\"pin created successfully\")\n",
        "    # self.menu()\n",
        "\n",
        "  def change_pin(self):\n",
        "    old_pin = input(\"Enter old pin\")\n",
        "\n",
        "    if old_pin == self.pin:\n",
        "      new_pin = input(\"Enter new pin\")\n",
        "      self.pin = new_pin\n",
        "      print(\"Pin change successful\")\n",
        "      # self.menu()\n",
        "\n",
        "    else:\n",
        "      print(\"nai krne de skta re baba\")\n",
        "      # self.menu()\n",
        "\n",
        "  def check_balance(self):\n",
        "    user_enterpin = input(\"Enter your pin\")\n",
        "    if user_enterpin == self.pin:\n",
        "      print(\"Your balance is: \", self.__balance)\n",
        "      # self.menu()\n",
        "    else:\n",
        "      print(\"NO, you cant see the balance\")\n",
        "      # self.menu()\n",
        "  def withdraw_money(self):\n",
        "    user_enterpin = input(\"enter your pin\")\n",
        "    if user_enterpin == self.pin:\n",
        "      user_inputcash = int(input(\"enter the withdraw money\"))\n",
        "\n",
        "      if user_inputcash <= self.__balance:\n",
        "        self.__balance = self.__balance - user_inputcash\n",
        "        print(\"Money debit successfully\", self.__balance)\n",
        "        print(user_inputcash)\n",
        "      else:\n",
        "        print(\"money insufficent\")\n",
        "    else:\n",
        "      print(\"Enter the wrong password\")\n",
        ""
      ],
      "metadata": {
        "id": "rmcg2a4Ip7zm"
      },
      "execution_count": 17,
      "outputs": []
    },
    {
      "cell_type": "code",
      "source": [
        "obj = Atm()\n"
      ],
      "metadata": {
        "id": "7eICNCq5qAvz",
        "colab": {
          "base_uri": "https://localhost:8080/"
        },
        "outputId": "b7103b4a-67a8-4555-9ec1-b31bb146dd63"
      },
      "execution_count": 18,
      "outputs": [
        {
          "output_type": "stream",
          "name": "stdout",
          "text": [
            "135032391940416\n"
          ]
        }
      ]
    },
    {
      "cell_type": "code",
      "source": [
        "obj.get_balance()\n"
      ],
      "metadata": {
        "id": "Gw1F-j3ZgJRJ",
        "colab": {
          "base_uri": "https://localhost:8080/"
        },
        "outputId": "1cd6c3d0-0bb8-4204-f844-092d1c788041"
      },
      "execution_count": 19,
      "outputs": [
        {
          "output_type": "execute_result",
          "data": {
            "text/plain": [
              "0"
            ]
          },
          "metadata": {},
          "execution_count": 19
        }
      ]
    },
    {
      "cell_type": "code",
      "source": [
        "obj.set_balance(\"hehe\")"
      ],
      "metadata": {
        "id": "U3rDQjFllXQd",
        "colab": {
          "base_uri": "https://localhost:8080/"
        },
        "outputId": "f11769f6-c4bb-407e-8059-f951758211c7"
      },
      "execution_count": 20,
      "outputs": [
        {
          "output_type": "stream",
          "name": "stdout",
          "text": [
            "beta bahut marenge\n"
          ]
        }
      ]
    },
    {
      "cell_type": "code",
      "source": [
        "class Person:\n",
        "  def __init__ (self, name, gender):\n",
        "    self.name = name\n",
        "    self.gender = gender\n",
        "\n",
        "  def __str__ (self):\n",
        "    return \"{}, {}\".format(self.name, self.gender)\n",
        "\n",
        "p1 = Person(\"Pooja\", \"Female\")\n",
        "p2 = Person(\"Ankit\", \"Male\")\n",
        "p3 = Person(\"Supriya\", \"Female\")\n",
        "d = {\"p1\":p1, \"p2\":p2, \"p3\":p3}\n",
        "\n",
        "for i in d:\n",
        "  print(d[i].gender)"
      ],
      "metadata": {
        "id": "MwNwHXohlX63",
        "colab": {
          "base_uri": "https://localhost:8080/"
        },
        "outputId": "ae072cd9-d454-450f-db61-0a697cc5b3ba"
      },
      "execution_count": 21,
      "outputs": [
        {
          "output_type": "stream",
          "name": "stdout",
          "text": [
            "Female\n",
            "Male\n",
            "Female\n"
          ]
        }
      ]
    },
    {
      "cell_type": "code",
      "source": [
        "class Atm:\n",
        "\n",
        "  __counter = 1\n",
        "\n",
        "  def __init__(self):\n",
        "    print(id(self))\n",
        "    self.pin = \"\"\n",
        "    self.__balance = 0\n",
        "    self.cid = Atm.__counter\n",
        "    Atm.__counter = Atm.__counter + 1\n",
        "    # self.menu()\n",
        "  @staticmethod\n",
        "  def get_counter():\n",
        "    return Atm.__counter\n",
        "\n",
        "  def get_balance(self):\n",
        "    return self.__balance\n",
        "\n",
        "  def set_balance(self, new_value):\n",
        "    if type(new_value) == int:\n",
        "      self.__balance = new_value\n",
        "    else:\n",
        "      print(\"beta bahut marenge\")\n",
        "\n",
        "\n",
        "  def menu(self):\n",
        "    user_input = input(\"\"\"\n",
        "    Hi ! How may i help you\n",
        "    1. Enter 1 to create pin\n",
        "    2. Enter 2 to change  pin\n",
        "    3. Enter 3 to check balance\n",
        "    4. Enter 4 to withdraw\n",
        "    5. For anything else to exit\n",
        "    \"\"\")\n",
        "\n",
        "    if user_input == \"1\":\n",
        "      self.create_pin()\n",
        "      #create pin\n",
        "\n",
        "    elif user_input == \"2\":\n",
        "      self.change_pin()\n",
        "\n",
        "    elif user_input == \"3\":\n",
        "      self.__check_balance()\n",
        "    elif user_input == \"4\":\n",
        "      self.withdraw_money()\n",
        "    else:\n",
        "      exit()\n",
        "\n",
        "  def create_pin(self):\n",
        "    user_pin = input(\"Enter your pin\")\n",
        "    self.pin = user_pin\n",
        "\n",
        "    user_balance = int(input(\"enter the balance\"))\n",
        "    self.___balance = user_balance\n",
        "\n",
        "    print(\"pin created successfully\")\n",
        "    # self.menu()\n",
        "\n",
        "  def change_pin(self):\n",
        "    old_pin = input(\"Enter old pin\")\n",
        "\n",
        "    if old_pin == self.pin:\n",
        "      new_pin = input(\"Enter new pin\")\n",
        "      self.pin = new_pin\n",
        "      print(\"Pin change successful\")\n",
        "      # self.menu()\n",
        "\n",
        "    else:\n",
        "      print(\"nai krne de skta re baba\")\n",
        "      # self.menu()\n",
        "\n",
        "  def check_balance(self):\n",
        "    user_enterpin = input(\"Enter your pin\")\n",
        "    if user_enterpin == self.pin:\n",
        "      print(\"Your balance is: \", self.__balance)\n",
        "      # self.menu()\n",
        "    else:\n",
        "      print(\"NO, you cant see the balance\")\n",
        "      # self.menu()\n",
        "  def withdraw_money(self):\n",
        "    user_enterpin = input(\"enter your pin\")\n",
        "    if user_enterpin == self.pin:\n",
        "      user_inputcash = int(input(\"enter the withdraw money\"))\n",
        "\n",
        "      if user_inputcash <= self.__balance:\n",
        "        self.__balance = self.__balance - user_inputcash\n",
        "        print(\"Money debit successfully\", self.__balance)\n",
        "        print(user_inputcash)\n",
        "      else:\n",
        "        print(\"money insufficent\")\n",
        "    else:\n",
        "      print(\"Enter the wrong password\")\n",
        ""
      ],
      "metadata": {
        "id": "atAiQwbegbI2"
      },
      "execution_count": 22,
      "outputs": []
    },
    {
      "cell_type": "code",
      "source": [
        "c1 = Atm()"
      ],
      "metadata": {
        "colab": {
          "base_uri": "https://localhost:8080/"
        },
        "id": "DfofN4jByZyE",
        "outputId": "eaf48235-c455-49f6-f270-67ea0acf34b7"
      },
      "execution_count": 23,
      "outputs": [
        {
          "output_type": "stream",
          "name": "stdout",
          "text": [
            "135032365123952\n"
          ]
        }
      ]
    },
    {
      "cell_type": "code",
      "source": [
        "Atm.get_counter()"
      ],
      "metadata": {
        "colab": {
          "base_uri": "https://localhost:8080/"
        },
        "id": "ugdQ7038lV_0",
        "outputId": "4a05e25c-6c58-459d-eb55-5d90febfc128"
      },
      "execution_count": 24,
      "outputs": [
        {
          "output_type": "execute_result",
          "data": {
            "text/plain": [
              "2"
            ]
          },
          "metadata": {},
          "execution_count": 24
        }
      ]
    },
    {
      "cell_type": "code",
      "source": [],
      "metadata": {
        "id": "8RC2aHJbyXLM"
      },
      "execution_count": 24,
      "outputs": []
    },
    {
      "cell_type": "code",
      "source": [
        "c2 = Atm()"
      ],
      "metadata": {
        "colab": {
          "base_uri": "https://localhost:8080/"
        },
        "id": "HpVi0uj2gllQ",
        "outputId": "3edd6ce4-7c7b-492c-f9f8-c6414a636002"
      },
      "execution_count": 25,
      "outputs": [
        {
          "output_type": "stream",
          "name": "stdout",
          "text": [
            "135032365128080\n"
          ]
        }
      ]
    },
    {
      "cell_type": "code",
      "source": [
        "c3 = Atm()"
      ],
      "metadata": {
        "id": "qWkBRVWshsHi",
        "colab": {
          "base_uri": "https://localhost:8080/"
        },
        "outputId": "31944dc7-9f1b-4cbe-9cdd-fbb2f021615a"
      },
      "execution_count": 26,
      "outputs": [
        {
          "output_type": "stream",
          "name": "stdout",
          "text": [
            "135032365127840\n"
          ]
        }
      ]
    },
    {
      "cell_type": "code",
      "source": [
        "c1.cid"
      ],
      "metadata": {
        "id": "4rIJ01Hys0Ga",
        "colab": {
          "base_uri": "https://localhost:8080/"
        },
        "outputId": "7bdca4a2-dabd-46fe-e527-a6ca50afb85b"
      },
      "execution_count": 27,
      "outputs": [
        {
          "output_type": "execute_result",
          "data": {
            "text/plain": [
              "1"
            ]
          },
          "metadata": {},
          "execution_count": 27
        }
      ]
    },
    {
      "cell_type": "code",
      "source": [
        "c3.cid"
      ],
      "metadata": {
        "id": "qIbwh8UJs6ZO",
        "colab": {
          "base_uri": "https://localhost:8080/"
        },
        "outputId": "672618a6-39a8-458a-ff8b-fdbce6d79170"
      },
      "execution_count": 28,
      "outputs": [
        {
          "output_type": "execute_result",
          "data": {
            "text/plain": [
              "3"
            ]
          },
          "metadata": {},
          "execution_count": 28
        }
      ]
    },
    {
      "cell_type": "code",
      "source": [
        "Atm.counter"
      ],
      "metadata": {
        "id": "ekKIrLcts9tj",
        "colab": {
          "base_uri": "https://localhost:8080/",
          "height": 175
        },
        "outputId": "99395e58-b219-4c89-d6a3-7c7ec905cd43"
      },
      "execution_count": 29,
      "outputs": [
        {
          "output_type": "error",
          "ename": "AttributeError",
          "evalue": "type object 'Atm' has no attribute 'counter'",
          "traceback": [
            "\u001b[0;31m---------------------------------------------------------------------------\u001b[0m",
            "\u001b[0;31mAttributeError\u001b[0m                            Traceback (most recent call last)",
            "\u001b[0;32m<ipython-input-29-bc2e44b41fb4>\u001b[0m in \u001b[0;36m<cell line: 1>\u001b[0;34m()\u001b[0m\n\u001b[0;32m----> 1\u001b[0;31m \u001b[0mAtm\u001b[0m\u001b[0;34m.\u001b[0m\u001b[0mcounter\u001b[0m\u001b[0;34m\u001b[0m\u001b[0;34m\u001b[0m\u001b[0m\n\u001b[0m",
            "\u001b[0;31mAttributeError\u001b[0m: type object 'Atm' has no attribute 'counter'"
          ]
        }
      ]
    },
    {
      "cell_type": "code",
      "source": [
        "class Vehicle:\n",
        "  def __init__ (self, max_mileage, max_speed):\n",
        "    self.max_mileage = max_mileage\n",
        "    self.max_speed = max_speed\n",
        "\n",
        "  def __str__ (self):\n",
        "    return \"The car max mileage and max speed is {},{}\". format(self.max_mileage, self.max_speed)\n",
        "\n",
        "maruti = Vehicle(20, 10)\n",
        "print(maruti)\n",
        "\n"
      ],
      "metadata": {
        "id": "paEk76NPyADr"
      },
      "execution_count": null,
      "outputs": []
    },
    {
      "cell_type": "code",
      "source": [],
      "metadata": {
        "id": "2VBtdoqD3F5j"
      },
      "execution_count": null,
      "outputs": []
    },
    {
      "cell_type": "markdown",
      "source": [
        "# Aggregation\n",
        "\n"
      ],
      "metadata": {
        "id": "itYWr0XTSsm0"
      }
    },
    {
      "cell_type": "code",
      "source": [
        "class Customer:\n",
        "\n",
        "  def __init__ (self,name,gender, address):\n",
        "    self.name = name\n",
        "    self.gender = gender\n",
        "    self.address  = address\n",
        "\n",
        "  def identity(self):\n",
        "    print(\"The name of customer is \", self.name, \"and he is a \", self.gender)\n",
        "\n",
        "  def print_address(self):\n",
        "    print(self.address.get_city(), self.address.pin, self.address.state)\n",
        "\n",
        "  def edit_profile(self, new_name, new_city, new_pin, new_state):\n",
        "    self.name = new_name\n",
        "    self.address.edit_address(new_city, new_pin, new_state)\n",
        "\n",
        "class Address:\n",
        "  def __init__ (self, city, pin, state):\n",
        "    self.__city = city\n",
        "    self.pin = pin\n",
        "    self.state = state\n",
        "\n",
        "  def get_city(self):\n",
        "    return self.__city\n",
        "\n",
        "  def edit_address(self, new_city, new_pin, new_state):\n",
        "    self.__city = new_city\n",
        "    self.pin = new_pin\n",
        "    self.state = new_state\n",
        "\n",
        "add1 = Address(\"Gurgaon\", 11201, \"haryana\")\n",
        "cust = Customer(\"nitish\", \"male\",add1)\n",
        "\n",
        "cust.print_address()\n",
        "cust.edit_profile(\"pooja\", \"u.p\", 1111, \"bijnor\")\n",
        "cust.print_address()\n"
      ],
      "metadata": {
        "id": "sWpSBfwHS08D"
      },
      "execution_count": null,
      "outputs": []
    },
    {
      "cell_type": "code",
      "source": [
        "#parent class\n",
        "class User:\n",
        "  def __init__(self):\n",
        "    self.name = \"pooja\"\n",
        "\n",
        "  def login(self):\n",
        "    print(\"login\")\n",
        "\n",
        "#child\n",
        "\n",
        "class Student(User):\n",
        "\n",
        "  def enroll(self):\n",
        "\n",
        "    print(\"Enroll into the course\")\n",
        "\n",
        "u = User()\n",
        "s = Student()\n",
        "print(s.name)\n",
        "s.login()\n",
        "s.enroll()\n"
      ],
      "metadata": {
        "id": "mvy1un2cT8eQ"
      },
      "execution_count": null,
      "outputs": []
    },
    {
      "cell_type": "code",
      "source": [
        "class Phone:\n",
        "  def __init__ (self, price, brand, camera):\n",
        "    print(\"Inside phone constructor\")\n",
        "    self.price = price\n",
        "    self.brand = brand\n",
        "    self.camera = camera\n",
        "\n",
        "  def buy(self):\n",
        "    print(\"Buying a phone\")\n",
        "\n",
        "class Smartphone(Phone):\n",
        "  pass\n",
        "\n",
        "s = Smartphone(20000, \"Apple\", 13)\n",
        "s.buy()"
      ],
      "metadata": {
        "id": "iyv7-jZ3V42x"
      },
      "execution_count": null,
      "outputs": []
    },
    {
      "cell_type": "code",
      "source": [],
      "metadata": {
        "id": "Fsbn9l4biGJn"
      },
      "execution_count": null,
      "outputs": []
    },
    {
      "cell_type": "markdown",
      "source": [
        "#inheritance\n"
      ],
      "metadata": {
        "id": "Q-FhvNIOmdhr"
      }
    },
    {
      "cell_type": "code",
      "source": [
        "class User:\n",
        "  def __init__ (self):\n",
        "    self.name = \"nitish\"\n",
        "\n",
        "  def login(self):\n",
        "    print(\"login\")\n",
        "\n",
        "class Student(User):\n",
        "\n",
        "\n",
        "\n",
        "  def enroll(self):\n",
        "    print(\"Enroll into the course\")\n",
        "\n",
        "u = User()\n",
        "s = Student()\n",
        "print(s.name)\n",
        "\n",
        "s.login()\n",
        "s.enroll()\n"
      ],
      "metadata": {
        "id": "qoAZC4cmmjwd"
      },
      "execution_count": null,
      "outputs": []
    },
    {
      "cell_type": "code",
      "source": [
        "class Phone:\n",
        "  def __init__(self, price, brand, camera):\n",
        "    print(\"Inside phone constructor\")\n",
        "    self.price = price\n",
        "    self.brand = brand\n",
        "    self.camera = camera\n",
        "\n",
        "  def buy(self):\n",
        "    print(\"Buying a phone\")\n",
        "\n",
        "class SmartPhone(Phone):\n",
        "  pass\n",
        "\n",
        "A = SmartPhone(20000, \"Nokia\", \"13Mp\")\n",
        "\n"
      ],
      "metadata": {
        "id": "hnx1bs3aoJhG"
      },
      "execution_count": null,
      "outputs": []
    },
    {
      "cell_type": "code",
      "source": [
        "class Phone:\n",
        "  def __init__(self, price, brand, camera):\n",
        "    print(\"Inside the phone constructor\")\n",
        "    self.__price = price\n",
        "    self.brand = brand\n",
        "    self.camera = camera\n",
        "\n",
        "class SmartPhone(Phone):\n",
        "  def __init__(self, os, ram):\n",
        "    self.os = os\n",
        "    self.ram = ram\n",
        "    print(\"Inside smartphone constructor\")\n",
        "\n",
        "s = SmartPhone(\"Android\", 2)\n",
        "s.ram"
      ],
      "metadata": {
        "id": "u2MhZRAWrJD3"
      },
      "execution_count": null,
      "outputs": []
    },
    {
      "cell_type": "code",
      "source": [
        "class Phone:\n",
        "  def __init__(self, price, brand, camera):\n",
        "    print(\"Inside the phone constructor\")\n",
        "    self.__price = price\n",
        "    self.brand = brand\n",
        "    self.camera = camera\n",
        "\n",
        "  def show(self):\n",
        "    print(self.__price)\n",
        "\n",
        "\n",
        "class SmartPhone(Phone):\n",
        "  def check(self):\n",
        "    print(self.__price)\n",
        "\n",
        "s = SmartPhone(20000, \"Apple\", 13)\n",
        "s.check()"
      ],
      "metadata": {
        "id": "1Haw-CYmspkw"
      },
      "execution_count": null,
      "outputs": []
    },
    {
      "cell_type": "code",
      "source": [
        "class Parent:\n",
        "\n",
        "  def __init__(self, num):\n",
        "    self.__num = num\n",
        "\n",
        "  def get_num(self):\n",
        "    return self.__num\n",
        "\n",
        "class Child(Parent):\n",
        "  def show(self):\n",
        "    print(\"This is in child class\")\n",
        "\n",
        "son = Child(100)\n",
        "print(son.get_num())\n",
        "son.show()\n",
        "\n"
      ],
      "metadata": {
        "id": "LMtfJC603ClG"
      },
      "execution_count": null,
      "outputs": []
    },
    {
      "cell_type": "code",
      "source": [
        "class Parent:\n",
        "  def __init__(self, num):\n",
        "    self.__num = num\n",
        "\n",
        "  def get_num(self):\n",
        "    return self.__num\n",
        "\n",
        "class Child(Parent):\n",
        "  def __init__(self, val, num):\n",
        "    self.__val = val\n",
        "    self.__num = num\n",
        "\n",
        "  def get_val(self):\n",
        "    return self.__val\n",
        "  def get_num(self):\n",
        "    return self.__num\n",
        "\n",
        "son = Child(100, 10)\n",
        "print(\"Parent: num: \", son.get_num())\n",
        "print(\"Child: val: \", son.get_val())"
      ],
      "metadata": {
        "id": "vM1VjVia56-6"
      },
      "execution_count": null,
      "outputs": []
    },
    {
      "cell_type": "code",
      "source": [
        "class A:\n",
        "  def __init__(self):\n",
        "    self.var1 = 100\n",
        "\n",
        "  def display1(self, var1):\n",
        "    self.var1= var1\n",
        "    print(\"Class A:\", self.var1)\n",
        "\n",
        "class B(A):\n",
        "\n",
        "  def display2(self, var1):\n",
        "    print(\"class B :\", self.var1)\n",
        "\n",
        "obj = B()\n",
        "obj.display1(200)"
      ],
      "metadata": {
        "id": "vL5f0h4R7QGF"
      },
      "execution_count": null,
      "outputs": []
    },
    {
      "cell_type": "code",
      "source": [
        "#method overriding\n",
        "class Phone:\n",
        "  def __init__(self, price, brand, camera):\n",
        "    self.__price = price\n",
        "    self.brand = brand\n",
        "    self.camera = camera\n",
        "\n",
        "  def buy(self):\n",
        "    print(\"Buying a phone\")\n",
        "\n",
        "class SmartPhone(Phone):\n",
        "  def buy(self):\n",
        "    print(\"Buying a smartphone\")\n",
        "\n",
        "s = SmartPhone(20000, \"apple\", 13)\n",
        "s.buy()\n"
      ],
      "metadata": {
        "id": "FxLnKhNj94MP"
      },
      "execution_count": null,
      "outputs": []
    },
    {
      "cell_type": "code",
      "source": [
        "#super\n",
        "class Phone:\n",
        "  def __init__(self, price, brand, camera):\n",
        "    print(\"Inside phone constructor\")\n",
        "    self.__price = price\n",
        "    self.brand = brand\n",
        "    self.camera = camera\n",
        "\n",
        "  def buy(self):\n",
        "    print(\"Buying a phone\")\n",
        "\n",
        "class SmartPhone(Phone):\n",
        "  def buy(self):\n",
        "    print(\"Buying a smartphone\")\n",
        "    #syntax to call parent ka call method\n",
        "    super().buy()\n",
        "\n",
        "s = SmartPhone(20000, \"apple\", 13)\n",
        "s.buy()"
      ],
      "metadata": {
        "id": "lQwjnCKxBRwg"
      },
      "execution_count": null,
      "outputs": []
    },
    {
      "cell_type": "code",
      "source": [
        "class Phone:\n",
        "  def __init__(self, price, brand, camera):\n",
        "    print(\"Inside phone constructor\")\n",
        "    self.price = price\n",
        "    self.brand = brand\n",
        "    self.camera = camera\n",
        "\n",
        "\n",
        "class SmartPhone(Phone):\n",
        "  def __init__(self, price, brand, camera, os , ram):\n",
        "    print(\"Inside smartphone constructor\")\n",
        "    super().__init__(price, brand, camera)\n",
        "    self.os = os\n",
        "    self.ram = ram\n",
        "    print(\"Inside smartphone constructor\")\n",
        "\n",
        "\n",
        "s = SmartPhone(20000, \"apple\", 12, \"Android\", 2)\n",
        "print(s.os)\n",
        "print(s.price)"
      ],
      "metadata": {
        "id": "3idVoN9dDIMF"
      },
      "execution_count": null,
      "outputs": []
    },
    {
      "cell_type": "code",
      "source": [
        "#super always use inside the class not ouside the class. it will show an error\n",
        "class Phone:\n",
        "  def __init__(self, price, brand, camera):\n",
        "    print(\"Inside phone constructor\")\n",
        "    self.__price = price\n",
        "    self.brand = brand\n",
        "    self.camera = camera\n",
        "\n",
        "  def buy(self):\n",
        "    print(\"Buying a phone\")\n",
        "\n",
        "class SmartPhone(Phone):\n",
        "  def buy(self):\n",
        "    print(\"Buying a smartphone\")\n",
        "    #syntax to call parent ka call method\n",
        "\n",
        "\n",
        "s = SmartPhone(20000, \"apple\", 13)\n",
        "s.super().buy()"
      ],
      "metadata": {
        "id": "t_95lPHqEgli"
      },
      "execution_count": null,
      "outputs": []
    },
    {
      "cell_type": "code",
      "source": [
        "#super can not access attributes or variables\n",
        "class Phone:\n",
        "  def __init__(self, price, brand, camera):\n",
        "    print(\"Inside phone constructor\")\n",
        "    self.__price = price\n",
        "    self.brand = brand\n",
        "    self.camera = camera\n",
        "\n",
        "  def buy(self):\n",
        "    print(\"Buying a phone\")\n",
        "\n",
        "class SmartPhone(Phone):\n",
        "  def buy(self):\n",
        "    print(\"Buying a smartphone\")\n",
        "    #syntax to call parent ka call method\n",
        "    print(super().brand)\n",
        "\n",
        "s = SmartPhone(20000, \"apple\", 13)\n",
        "s.buy()"
      ],
      "metadata": {
        "id": "cDZ1XZ28FSSR"
      },
      "execution_count": null,
      "outputs": []
    },
    {
      "cell_type": "code",
      "source": [
        "class parent:\n",
        "\n",
        "  def __init__(self, num):\n",
        "    self.__num = num\n",
        "\n",
        "  def get_num(self):\n",
        "    return self.__num\n",
        "\n",
        "class Child(Parent):\n",
        "\n",
        "  def __init__(self, num, val):\n",
        "    super().__init__(num)\n",
        "    self.__val = val\n",
        "\n",
        "  def get_val(self):\n",
        "    return self.__val\n",
        "\n",
        "son = Child(100, 200)\n",
        "print(son.get_num())\n",
        "print(son.get_val())\n",
        "\n"
      ],
      "metadata": {
        "id": "Dw3MCNhQGQ74"
      },
      "execution_count": null,
      "outputs": []
    },
    {
      "cell_type": "code",
      "source": [
        "class Parent:\n",
        "\n",
        "  def __init__(self):\n",
        "    self.num = 100\n",
        "\n",
        "class Child(Parent):\n",
        "\n",
        "  def __init__(self):\n",
        "    super().__init__()\n",
        "    self.var = 200\n",
        "\n",
        "  def show(self):\n",
        "    print(self.num)\n",
        "    print(self.var)\n",
        "\n",
        "son = Child()\n",
        "son.show()"
      ],
      "metadata": {
        "id": "VzF7sy2bH3EZ"
      },
      "execution_count": null,
      "outputs": []
    },
    {
      "cell_type": "code",
      "source": [
        "class Parent:\n",
        "  def __init__(self):\n",
        "    self.__num = 100\n",
        "\n",
        "  def show(self):\n",
        "    print(\"Parent:\", self.__num)\n",
        "\n",
        "class Child(Parent):\n",
        "  def __init__(self):\n",
        "    super().__init__()\n",
        "    self.__var = 10\n",
        "\n",
        "  def show(self):\n",
        "    print(\"Child:\", self.__var)\n",
        "\n",
        "obj = Child()\n",
        "obj.show()"
      ],
      "metadata": {
        "id": "aBf8lA-vIrUQ"
      },
      "execution_count": null,
      "outputs": []
    },
    {
      "cell_type": "code",
      "source": [
        "# multilevel inheritances\n",
        "\n",
        "class Product:\n",
        "  def review(self):\n",
        "    print(\"Product customer review\")\n",
        "\n",
        "class Phone(Product):\n",
        "  def __init__(self, price, brand, camera):\n",
        "    print(\"Inside phone constructor\")\n",
        "    self.__price = price\n",
        "    self.brand = brand\n",
        "    self.camera = camera\n",
        "\n",
        "  def buy(self):\n",
        "    print(\"Buying a phone\")\n",
        "\n",
        "class SmartPhone(Phone):\n",
        "  pass\n",
        "\n",
        "s = SmartPhone(20000, \"Apple\", 12)\n",
        "s.buy()\n",
        "s.review()"
      ],
      "metadata": {
        "id": "sU1L2UkbJ6uW"
      },
      "execution_count": null,
      "outputs": []
    },
    {
      "cell_type": "code",
      "source": [
        "#hierarchical --> single parent but multiple children\n",
        "class Phone(Product):\n",
        "  def __init__(self, price, brand, camera):\n",
        "    print(\"Inside phone constructor\")\n",
        "    self.__price = price\n",
        "    self.brand = brand\n",
        "    self.camera = camera\n",
        "\n",
        "  def buy(self):\n",
        "    print(\"Buying a phone\")\n",
        "\n",
        "class SmartPhone(Phone):\n",
        "  pass\n",
        "\n",
        "class FeaturePhone(Phone):\n",
        "  pass\n",
        "\n",
        "SmartPhone(1000, \"Apple\", \"13px\").buy()\n",
        "s = FeaturePhone(2000, \"Lava\", \"12px\")\n",
        "s.brand"
      ],
      "metadata": {
        "id": "6h4V4NLLMlfv"
      },
      "execution_count": null,
      "outputs": []
    },
    {
      "cell_type": "code",
      "source": [
        "# multiple inheritances\n",
        "class Phone(Product):\n",
        "  def __init__(self, price, brand, camera):\n",
        "    print(\"Inside phone constructor\")\n",
        "    self.__price = price\n",
        "    self.brand = brand\n",
        "    self.camera = camera\n",
        "\n",
        "  def buy(self):\n",
        "    print(\"Buying a phone\")\n",
        "class Product:\n",
        "  def review(self):\n",
        "    print(\"Customer review\")\n",
        "\n",
        "class SmartPhone(Phone, Product):\n",
        "  pass\n",
        "\n",
        "\n",
        "\n",
        "\n",
        "s = SmartPhone(1000, \"Apple\", 12)\n",
        "s.buy()\n",
        "s.review()\n",
        "\n",
        "\n",
        "\n",
        "\n",
        "\n",
        "\n",
        "\n",
        "\n",
        "\n",
        "\n"
      ],
      "metadata": {
        "id": "yyfJx-5yNTjY"
      },
      "execution_count": null,
      "outputs": []
    },
    {
      "cell_type": "code",
      "source": [
        "import numpy as np\n",
        "w = np.zeros([3, 4, 5], np.float64)\n",
        "w[0,:,:], w[1,:,:], w[2,:,:]= 0, 0, 1\n",
        "np.shape()\n"
      ],
      "metadata": {
        "id": "QQdxH-QxOkLj"
      },
      "execution_count": null,
      "outputs": []
    },
    {
      "cell_type": "code",
      "source": [
        "var = np.zeros([3, 4, 5], np.float64)\n",
        "var[:, :, :] = 5\n",
        "var"
      ],
      "metadata": {
        "id": "u8i5GmoDBqPv"
      },
      "execution_count": null,
      "outputs": []
    },
    {
      "cell_type": "code",
      "source": [
        "d = np.zeros([3,4,5]).\n",
        "print(d)"
      ],
      "metadata": {
        "id": "T9INWaHwB3MC"
      },
      "execution_count": null,
      "outputs": []
    },
    {
      "cell_type": "code",
      "source": [
        "variance = np.zeros([3,4,5],np.float64)\n",
        "variance[:,:,:] = 0\n",
        "variance[0][np.where(variance[0]<1)] = 10\n",
        "variance[1][np.where(variance[1]<1)] = 5\n",
        "variance[2][np.where(variance[2]<1)] = 1\n",
        "print(variance[0])\n",
        "print(variance[1])\n",
        "print(variance[2])"
      ],
      "metadata": {
        "id": "gZctP62CDN5Q"
      },
      "execution_count": null,
      "outputs": []
    },
    {
      "cell_type": "code",
      "source": [],
      "metadata": {
        "id": "C7m8zeWtQxqW"
      },
      "execution_count": null,
      "outputs": []
    }
  ],
  "metadata": {
    "colab": {
      "provenance": [],
      "authorship_tag": "ABX9TyPJ0BYJ2bAAz/X0e9CQnHk2",
      "include_colab_link": true
    },
    "kernelspec": {
      "display_name": "Python 3",
      "name": "python3"
    },
    "language_info": {
      "name": "python"
    }
  },
  "nbformat": 4,
  "nbformat_minor": 0
}